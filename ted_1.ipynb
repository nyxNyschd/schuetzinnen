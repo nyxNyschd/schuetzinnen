{
  "nbformat": 4,
  "nbformat_minor": 0,
  "metadata": {
    "colab": {
      "name": "ted_1.ipynb",
      "provenance": [],
      "authorship_tag": "ABX9TyPGj1n2GZw467ayhziDLC47",
      "include_colab_link": true
    },
    "kernelspec": {
      "name": "python3",
      "display_name": "Python 3"
    }
  },
  "cells": [
    {
      "cell_type": "markdown",
      "metadata": {
        "id": "view-in-github",
        "colab_type": "text"
      },
      "source": [
        "<a href=\"https://colab.research.google.com/github/nyxNyschd/schuetzinnen/blob/abeer_julia/ted_1.ipynb\" target=\"_parent\"><img src=\"https://colab.research.google.com/assets/colab-badge.svg\" alt=\"Open In Colab\"/></a>"
      ]
    },
    {
      "cell_type": "markdown",
      "metadata": {
        "id": "ohmFOXEDtarI"
      },
      "source": [
        "Zugriff : SELECT TOP 1000 short_desc_eng FROM projektcontrolling_sqldb.TENDERLYZE.staging_xml_2020 WHERE short_desc_eng is not  null AND DATALENGTH(short_desc_eng)>0\n"
      ]
    },
    {
      "cell_type": "code",
      "metadata": {
        "id": "sbWDwoT-nIGL"
      },
      "source": [
        "import numpy as np\n",
        "import pandas as pd\n",
        "import matplotlib.pyplot as plt\n",
        "import nltk, re\n",
        "from nltk.tokenize import TreebankWordTokenizer\n",
        "from sklearn.feature_extraction.text import ENGLISH_STOP_WORDS\n",
        "from nltk.stem import WordNetLemmatizer\n",
        "from nltk.stem import PorterStemmer\n"
      ],
      "execution_count": 5,
      "outputs": []
    },
    {
      "cell_type": "code",
      "metadata": {
        "id": "tcw3ydfenSCq"
      },
      "source": [
        "ted = \"\"\"The competition concerns the delivery of asphalt works on municipal roads, streets, foot and cycle paths, \n",
        "pavements, squares, parking places, some private roads and any selected new installations that are operated and\n",
        "maintained by the individual municipalities.The annual value of the procurement is estimated to be: 15 000 000 \n",
        "NOK-30 000 000 NOK excluding VAT per year. The value is an estimate and, thus, not binding. See the tender \n",
        "documentation for further information.\"\"\""
      ],
      "execution_count": 3,
      "outputs": []
    },
    {
      "cell_type": "code",
      "metadata": {
        "id": "FxXHcfgqfmbn",
        "outputId": "32f76ce7-ffd4-4ba8-c0a8-ad26406d0b99",
        "colab": {
          "base_uri": "https://localhost:8080/"
        }
      },
      "source": [
        "result = ''.join([i for i in ted if not i.isdigit()])\n",
        "print(result)"
      ],
      "execution_count": 4,
      "outputs": [
        {
          "output_type": "stream",
          "text": [
            "The competition concerns the delivery of asphalt works on municipal roads, streets, foot and cycle paths, \n",
            "pavements, squares, parking places, some private roads and any selected new installations that are operated and\n",
            "maintained by the individual municipalities.The annual value of the procurement is estimated to be:    \n",
            "NOK-   NOK excluding VAT per year. The value is an estimate and, thus, not binding. See the tender \n",
            "documentation for further information.\n"
          ],
          "name": "stdout"
        }
      ]
    },
    {
      "cell_type": "code",
      "metadata": {
        "id": "pTm6ZLfynYLK",
        "outputId": "b0a7808b-37cd-41c7-8209-61fd3d98faa2",
        "colab": {
          "base_uri": "https://localhost:8080/"
        }
      },
      "source": [
        "ted.split()"
      ],
      "execution_count": null,
      "outputs": [
        {
          "output_type": "execute_result",
          "data": {
            "text/plain": [
              "['The',\n",
              " 'competition',\n",
              " 'concerns',\n",
              " 'the',\n",
              " 'delivery',\n",
              " 'of',\n",
              " 'asphalt',\n",
              " 'works',\n",
              " 'on',\n",
              " 'municipal',\n",
              " 'roads,',\n",
              " 'streets,',\n",
              " 'foot',\n",
              " 'and',\n",
              " 'cycle',\n",
              " 'paths,',\n",
              " 'pavements,',\n",
              " 'squares,',\n",
              " 'parking',\n",
              " 'places,',\n",
              " 'some',\n",
              " 'private',\n",
              " 'roads',\n",
              " 'and',\n",
              " 'any',\n",
              " 'selected',\n",
              " 'new',\n",
              " 'installations',\n",
              " 'that',\n",
              " 'are',\n",
              " 'operated',\n",
              " 'and',\n",
              " 'maintained',\n",
              " 'by',\n",
              " 'the',\n",
              " 'individual',\n",
              " 'municipalities.The',\n",
              " 'annual',\n",
              " 'value',\n",
              " 'of',\n",
              " 'the',\n",
              " 'procurement',\n",
              " 'is',\n",
              " 'estimated',\n",
              " 'to',\n",
              " 'be:',\n",
              " '15',\n",
              " '000',\n",
              " '000',\n",
              " 'NOK-30',\n",
              " '000',\n",
              " '000',\n",
              " 'NOK',\n",
              " 'excluding',\n",
              " 'VAT',\n",
              " 'per',\n",
              " 'year.',\n",
              " 'The',\n",
              " 'value',\n",
              " 'is',\n",
              " 'an',\n",
              " 'estimate',\n",
              " 'and,',\n",
              " 'thus,',\n",
              " 'not',\n",
              " 'binding.',\n",
              " 'See',\n",
              " 'the',\n",
              " 'tender',\n",
              " 'documentation',\n",
              " 'for',\n",
              " 'further',\n",
              " 'information.']"
            ]
          },
          "metadata": {
            "tags": []
          },
          "execution_count": 3
        }
      ]
    },
    {
      "cell_type": "code",
      "metadata": {
        "id": "RSvf-ZFanb-2",
        "outputId": "3454caf1-8bca-401d-a418-7dcca7e89301",
        "colab": {
          "base_uri": "https://localhost:8080/"
        }
      },
      "source": [
        "print(len(ENGLISH_STOP_WORDS))"
      ],
      "execution_count": null,
      "outputs": [
        {
          "output_type": "stream",
          "text": [
            "318\n"
          ],
          "name": "stdout"
        }
      ]
    },
    {
      "cell_type": "code",
      "metadata": {
        "id": "iTUXssH0niHn",
        "outputId": "423c87d0-94e4-4c9c-d026-eef085743474",
        "colab": {
          "base_uri": "https://localhost:8080/"
        }
      },
      "source": [
        "print(ENGLISH_STOP_WORDS)"
      ],
      "execution_count": null,
      "outputs": [
        {
          "output_type": "stream",
          "text": [
            "frozenset({'out', 'hasnt', 'thereupon', 'go', 'after', 'name', 'bill', 'he', 'any', 'up', 'hereby', 'twelve', 'herein', 'only', 'nothing', 'above', 'few', 'mill', 'see', 'upon', 'across', 'am', 'must', 'whenever', 'afterwards', 'becomes', 'until', 'off', 'either', 'behind', 'each', 'elsewhere', 'mostly', 'enough', 'sometimes', 'every', 'along', 'keep', 'less', 'never', 'ourselves', 're', 'the', 'their', 'under', 'cant', 'into', 'thereby', 'anywhere', 'without', 'same', 'eleven', 'further', 'us', 'seems', 'yours', 'because', 'other', 'system', 'anything', 'beside', 'front', 'side', 'all', 'though', 'to', 'was', 'eg', 'over', 'next', 'of', 'cry', 'are', 'serious', 'too', 'throughout', 'amongst', 'both', 'would', 'against', 'could', 'such', 'more', 'below', 'may', 'still', 'take', 'between', 'move', 'twenty', 'when', 'can', 'made', 'con', 'several', 'while', 'whereupon', 'describe', 'everywhere', 'her', 'interest', 'none', 'thereafter', 'therein', 'whose', 'give', 'even', 'you', 'around', 'before', 'myself', 'thus', 'him', 'in', 'once', 'whom', 'has', 'alone', 'wherein', 'a', 'somewhere', 'whereafter', 'itself', 'nowhere', 'hereupon', 'an', 'someone', 'bottom', 'became', 'on', 'but', 'onto', 'should', 'rather', 'fill', 'yourself', 'otherwise', 'mine', 'sometime', 'is', 'inc', 'whole', 'why', 'six', 'again', 'latter', 'now', 'how', 'anyway', 'done', 'thence', 'through', 'already', 'back', 'except', 'whether', 'please', 'first', 'thru', 'nobody', 'whereby', 'therefore', 'yourselves', 'always', 'by', 'here', 'fire', 'however', 'hundred', 'yet', 'another', 'themselves', 'meanwhile', 'towards', 'himself', 'anyhow', 'whatever', 'with', 'formerly', 'moreover', 'as', 'ever', 'from', 'much', 'we', 'there', 'together', 'my', 'since', 'etc', 'due', 'others', 'amount', 'well', 'something', 'very', 'noone', 'than', 'former', 'via', 'almost', 'everything', 'ie', 'perhaps', 'whoever', 'your', 'full', 'ltd', 'its', 'put', 'down', 'nevertheless', 'nor', 'and', 'being', 'whither', 'seemed', 'those', 'nine', 'often', 'becoming', 'latterly', 'seeming', 'at', 'last', 'fifteen', 'some', 'un', 'where', 'if', 'fifty', 'empty', 'toward', 'thick', 'two', 'indeed', 'everyone', 'or', 'will', 'most', 'neither', 'were', 'herself', 'me', 'although', 'no', 'she', 'top', 'call', 'do', 'during', 'eight', 'amoungst', 'besides', 'get', 'whereas', 'them', 'third', 'they', 'de', 'it', 'among', 'his', 'couldnt', 'three', 'had', 'detail', 'four', 'per', 'within', 'part', 'own', 'about', 'namely', 'anyone', 'these', 'beforehand', 'wherever', 'found', 'cannot', 'also', 'have', 'i', 'thin', 'who', 'our', 'not', 'which', 'forty', 'show', 'that', 'might', 'ten', 'co', 'be', 'five', 'ours', 'one', 'somehow', 'been', 'this', 'sincere', 'beyond', 'hers', 'seem', 'else', 'what', 'many', 'hereafter', 'so', 'whence', 'find', 'hence', 'least', 'become', 'for', 'sixty', 'then'})\n"
          ],
          "name": "stdout"
        }
      ]
    },
    {
      "cell_type": "code",
      "metadata": {
        "id": "Uweoy60fnpbh",
        "outputId": "fecec55e-dde8-47b2-a186-e9a54d468171",
        "colab": {
          "base_uri": "https://localhost:8080/"
        }
      },
      "source": [
        "filtered_ted = [word for word in ted.split() if word not in ENGLISH_STOP_WORDS]\n",
        "print(filtered_ted)"
      ],
      "execution_count": null,
      "outputs": [
        {
          "output_type": "stream",
          "text": [
            "['The', 'competition', 'concerns', 'delivery', 'asphalt', 'works', 'municipal', 'roads,', 'streets,', 'foot', 'cycle', 'paths,', 'pavements,', 'squares,', 'parking', 'places,', 'private', 'roads', 'selected', 'new', 'installations', 'operated', 'maintained', 'individual', 'municipalities.The', 'annual', 'value', 'procurement', 'estimated', 'be:', '15', '000', '000', 'NOK-30', '000', '000', 'NOK', 'excluding', 'VAT', 'year.', 'The', 'value', 'estimate', 'and,', 'thus,', 'binding.', 'See', 'tender', 'documentation', 'information.']\n"
          ],
          "name": "stdout"
        }
      ]
    },
    {
      "cell_type": "code",
      "metadata": {
        "id": "pzLm0uiwn8LP",
        "outputId": "27d3273e-26a4-4377-8636-43dde7233fe4",
        "colab": {
          "base_uri": "https://localhost:8080/"
        }
      },
      "source": [
        "print(len(ted.split()))"
      ],
      "execution_count": null,
      "outputs": [
        {
          "output_type": "stream",
          "text": [
            "73\n"
          ],
          "name": "stdout"
        }
      ]
    },
    {
      "cell_type": "code",
      "metadata": {
        "id": "cPiDLkxin84w",
        "outputId": "db97d7a3-f8d3-4ace-ca82-980d2080c096",
        "colab": {
          "base_uri": "https://localhost:8080/"
        }
      },
      "source": [
        "print(len(filtered_ted))"
      ],
      "execution_count": null,
      "outputs": [
        {
          "output_type": "stream",
          "text": [
            "50\n"
          ],
          "name": "stdout"
        }
      ]
    },
    {
      "cell_type": "code",
      "metadata": {
        "id": "ETEVc5eXgL9R",
        "outputId": "8d30491a-7419-4176-d752-8c1dea5b27cc",
        "colab": {
          "base_uri": "https://localhost:8080/"
        }
      },
      "source": [
        "import nltk\n",
        "nltk.download('wordnet')\n",
        "stemmer = PorterStemmer()\n",
        "lemmatizer = WordNetLemmatizer()\n",
        "print(stemmer.stem('competition'))\n",
        "print(lemmatizer.lemmatize('competition'))"
      ],
      "execution_count": 8,
      "outputs": [
        {
          "output_type": "stream",
          "text": [
            "[nltk_data] Downloading package wordnet to /root/nltk_data...\n",
            "[nltk_data]   Unzipping corpora/wordnet.zip.\n",
            "competit\n",
            "competition\n"
          ],
          "name": "stdout"
        }
      ]
    }
  ]
}