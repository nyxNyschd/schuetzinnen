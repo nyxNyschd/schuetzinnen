{
 "cells": [
  {
   "cell_type": "code",
   "execution_count": 1,
   "metadata": {},
   "outputs": [],
   "source": [
    "import spacy\n",
    "from spacy.lang.en import English\n",
    "from spacy.tokenizer import Tokenizer\n",
    "from collections import Counter"
   ]
  },
  {
   "cell_type": "code",
   "execution_count": 2,
   "metadata": {},
   "outputs": [],
   "source": [
    "nlp = spacy.load(\"en_core_web_sm\")\n",
    "text = \"\"\"Analysis, Development and Consultancy in the Field of Online Learning Assets for ECDC\n",
    "This contract sets the framework, in the area of analysis, development and consultancy in the field of online learning assets for ECDC, for specific contracts under which the ECDC will request deliverables in one or more of the three work packages.WP1: providing analysis, guidance and trainings/workshop to further explore existing and new areas of digital learning. The target audience of these activities of analysis, guidance and trainings/workshop are ECDC staff and stakeholders.WP2: development of online learning assets such as eLearning courses (blended and standalone), eLearning pills (micro learning), tutorials and educational animations on public health related topics. ECDC will provide the content of the products and the Content Matter Expertise (CME).WP3: consultancy on online training activities best practices to enhance ECDC’s processes to create, maintain, deliver and archive online training activities (max.10 % of framework contract).”\n",
    "\n",
    "“Design and Implementation of Public Engagement Activities, including Technical Support and Training Activities Targeting EFSA Staff\n",
    "Objectives:— map and identify stakeholders for specific engagement activities;— design engagement plans (processes and activities) to achieve a given objective and ensure their effective implementation;— assess and measure the outcome and impact of engagement plans, document lessons learnt and recommend improvements;— provide trainings to EFSA staff on all the previous activities.\n",
    "\n",
    "Promoting Alternatives to Animal Testing and Three Rs through Education and Training at Secondary School Level in Several European Countries\n",
    "Promoting alternatives to animal testing and Three Rs through education and training at secondary school at Europe-wide level. The aim is to build on the results of Three Rs education and training work undertaken by the Commission through a European Parliament Pilot Project between 2018 and 2020, expanding on results achieved so far through a continued collaboration with teachers and education experts.\n",
    "\n",
    "Development, Revision and Delivery of Disseminations, Trainings (EU Railway Regulatory Framework)\n",
    "This call for tender has the purpose to identify qualified, competent and organised service partners able to support the Agency in setting appropriate training and dissemination strategy as well as the policy supporting such training services and dissemination activities (EU Railway Regulatory framework).\n",
    "\n",
    "Provision of services related to the implementation of training and related tasks as part of the educational programme ‘Ambassadors' School for the European Parliament’\n",
    "Through this invitation to tender, the Liaison Office of the European Parliament in Germany is aiming to find a service provider to support it in the implementation of the “Ambassador School for the European Parliament’ education programme”. This primarily includes the organisation and implementation of regional conferences in the five regions of Germany, each involving the participation of 80 to 100 teachers and pupils. The contract also includes the support of schools in the certification process and the supervision of the certified schools, e.g. by maintaining a network via a blog and other similar activities. The settlement of travel expenses of the schools participating in the regional conferences is also part of the cooperation. For further details please refer to the tender documents.\n",
    "\n",
    "Services Related to Offering Capacity to Plan, Organise and Support Training Courses in Cooperation with JEU, WHO, WFP, OCHA/INSARAG\n",
    "With this call for tender, the union civil protection mechanism intends to strengthen the cooperation with the UN agencies in the area of training. The aim is to ensure the interoperability and co-operation in case of a deployment and to further train the competences and knowledge about the disaster response and coordination during a response. The courses will be targeted towards participating states' experts and ECHO staff and to participants identified by the UN agencies.\n",
    "\n",
    "Service framework contract in cascade for the provision of temporary staff to support the Commission services at the JRC-Ispra site\n",
    "The European Commission requires the provision of services for the employment of temporary workers in order to ensure the coverage of working needs related to the temporary absence of its statutory staff and/or to support any peaks of work. In particular, temporary staff will be employed to replace staff absent due to illness, accident, maternity, parental leave, holidays or other periods, training or other reasons related to the reduction of its staff's working hours.\n",
    "\n",
    "Assistance for Statistical and Epidemiological Analyses and Related Data Management, Using Conventional and Artificial Intelligence Methodology, and for Training and Ad-hoc Consultation Upon Request\n",
    "The European Food Safety Authority (EFSA) is the leading EU body of this call for tenders.The following EU bodies join this call:• BEREC Office,• Executive Agency for Small and Medium-sized Enterprises (EASME),• European Banking Authority (EBA),• European Union Agency for Railways (ERA),• European Research Council Executive Agency (ERCEA),• European Securities and Markets Authority (ESMA),• European Union Intellectual Property Office (EUIPO),• European Union Agency for Law Enforcement Cooperation (EUROPOL).The aim of this procurement procedure is to conclude a framework contract in cascade for four years to provide assistance for statistical and epidemiological analyses and related data management, for Statistical analysis and other relevant tasks using artificial intelligence methodology, as well as for training and ad-hoc consultation upon request.\n",
    "\n",
    "Framework Contract for the Development of ICT Software Solution for EBCG Team Members Access to Schengen Information System (A2SISII)\n",
    "The main objective of this framework contract is to deliver effective ICT solution (i.e. A2SISII System) that will enable European Border and Coast Guard Agency teams to access to Schengen Information System in line with current Regulations (e.g. Regulations (EU) 2018/1725, 2018/1861, 2019/1896). The subject of the contract is the development of ICT software solution that will enable EBCG teams access to Schengen Information System — hereinafter defined as A2SISII system, including the deliverables related to its design, development, testing, deployment and training for the users (internal and external) and administrators. The framework contract resulting from this tender procedure is also to provide products and services to support and maintain the A2SISII System and to provide changes to its functionalities and to the underlying technical infrastructure in response to changing legal, political, organizational or technical environments.\n",
    "\n",
    "Security guard and fire safety services for the buildings of the Court of Justice of the European Union and the European Public Prosecutor's Office, as well as quality assessment of these services, and consultancy on safety and security\n",
    "Security guard and fire safety services for the current and future buildings of the Court of Justice of the European Union and the European Public Prosecutor's Office, as well as quality assessment of these services, and consultancy on safety and security.The purpose of the contract is:— lot 1: operational management of safety and security,— lot 2: assessment and monitoring of the performance and quality of the services provided by the contractor of lot 1; security and safety consultancy.\n",
    "\n",
    "Framework Contract for Implementation and Maintenance in Working Order of the Biometrics Part of the Entry Exit System and Future Shared Biometrics Matching System\n",
    "The CfT covers the implementation of the central Biometric Matching System (BMS) for EES, its transition to operations, followed by the corrective, adaptive, preventive, perfective and evolutionary maintenance as well as associated transversal services, support to Member States trainings and handover to the Contracting Authority and/or the next contractor. It also includes foreseen evolutions for the future integration of SIS II, EURODAC, VIS and ECRIS-TCN with the central BMS in the context of interoperability.\n",
    "\n",
    "Framework Contract for Implementation and Maintenance in working order of the Biometrics Part of the Entry Exit System\n",
    "The CfT covers the implementation of the central Automatic biometric identification and matching system for EES, its transition to operations, followed by the corrective, adaptive, preventive, perfective and evolutionary maintenance as well as associated transversal services, support to Member States trainings and handover to the Contracting Authority and/or the next Contractor.\n",
    "\n",
    "Support Services Related to Quality Assurance (EQAVET), Graduate Tracking and Flexibility in Vocational Education and Training (ECVET)\n",
    "The overall objective of the call is to purchase the services of a contractor to provide a set of support services for the implementation of the upcoming VET recommendation, in particular the implementation of the updated EQAVET framework with a specific focus on graduate tracking, supporting the principle that VET should be flexible and modularised, as well as exploring the feasibility of developing EU vocational core profiles.\n",
    "\n",
    "Professional Training Services for Safety and Security at the Brussels, Luxembourg and Strasbourg Sites of the European Parliament\n",
    "The European Parliament wishes to offer its staff a series of training courses on security and safety taking account of the specific features of the European Parliament's work environment. As well as a level of basic training, Parliament wishes to provide each staff member with advanced and refresher courses.\n",
    "\n",
    "Organisation and implementation of training activities to strengthen understanding, implementation and enforcement of EU law in the area of Sanitary and Phytosanitary (SPS) standards in EU member states and neighbouring non-EU countries under the ‘Better Training for Safer Food’ initiative.\n",
    "\n",
    "Organisation and implementation of training activities on the new Official Control Regulation under the ‘Better Training for Safer Food’ initiative.\n",
    "\n",
    "Organisation and implementation of training activities on the European Union legislative and policy framework for organic production and labelling of organic products under the ‘Better Training for Safer Food’ initiative.\n",
    "\n",
    "Performance of Teaching and Related Tasks as Part of the European Parliament Ambassador School educational programme in France\n",
    "To ensure the smooth running of European Parliament Ambassador School the European Parliament is looking for a contractor who will support the European Parliament Liaison Office in France (herewith in the EPLO) in teachers training, school evaluation tasks and school support as well as other related tasks included in this educational programme. The educational programme, the European Parliament Ambassador School, is conducted by at least one teacher per participating school. These teachers will be provided with seminars on how the programme works, the role and activities of the European Parliament, how to teach on EU matters and other relevant topics. In addition, the contractor shall support teachers on planning and developing online activities and contribute to enhancing the digital dimension of the programme. These seminars will be attended by EPLO staff, expert speakers, one or more MEPs and the contractor in the role of facilitator and education expert.\n",
    "\n",
    "Provision of Services in Support of Communications\n",
    "This call for tenders is divided into three lots:Lot 1: Graphic design and production of communications and promotional items;Lot 2: Development and production of the website design;Lot 3: Content development, organisation of communications campaigns and provision of consultancy for communications activities.\n",
    "\n",
    "Empirical evidences on teachers, learners and principals in VET as well as on in-company trainers are scarce in the EU. To close this gap the current tender aims at carrying out a feasibility study for a survey on teachers, school principals, learners, and in-company trainers in initial vocational education and training (IVET) at ISCED level 3.\n",
    "\n",
    "NRA Training on Regulatory Framework for Electronic Communications Networks and Services and other Topics Related to BEREC Activities\n",
    "The subject of this call for tenders is Training on regulatory framework for electronic communications networks and services and other topics related to BEREC activities. The objective of the framework contract (FWC) is to deliver training courses on a yearly basis, which shall provide a comprehensive overview of the new regulatory framework, knowledge of the key regulatory principles and other topics within BEREC areas of activities for specialized staff of BEREC members and the participating National Regulatory Authorities without voting rights in charge of topics related to the regulation of electronic communications networks and services and other topics of BEREC area of activities at European and national level during the whole duration of the contract.\n",
    "\n",
    "Entry Exit System Land Border Pilot\n",
    "Frontex intends to purchase technical support to develop, install, operate and dismantle deployable stand-alone border control systems, capable to collect travellers’ data relevant for EES, operating for a fixed time at EU land border crossing points. The systems deployed shall interface with the Host country national border control system. The coupling of both systems shall be a joint effort undertaken by the contractor and the corresponding national Host authorities (Bulgaria for lot 1 and Spain for lot 2).\n",
    "\"\"\"\n",
    "doc = nlp(text)"
   ]
  },
  {
   "cell_type": "code",
   "execution_count": 5,
   "metadata": {},
   "outputs": [
    {
     "name": "stdout",
     "output_type": "stream",
     "text": [
      "[('European', 27), ('training', 24), ('\\n\\n', 21), ('\\n', 19), ('service', 19), ('activity', 18), ('support', 16), ('Parliament', 14), ('staff', 13), ('contract', 12), ('framework', 12), ('implementation', 12), ('provide', 11), ('EU', 11), ('relate', 10)]\n"
     ]
    }
   ],
   "source": [
    "words = [token.lemma_ for token in doc if token.is_stop != True and token.is_punct != True]\n",
    "word_freq = Counter(words)\n",
    "common_words = word_freq.most_common(15)\n",
    "print(common_words)"
   ]
  },
  {
   "cell_type": "code",
   "execution_count": null,
   "metadata": {},
   "outputs": [],
   "source": []
  }
 ],
 "metadata": {
  "kernelspec": {
   "display_name": "Python 3",
   "language": "python",
   "name": "python3"
  },
  "language_info": {
   "codemirror_mode": {
    "name": "ipython",
    "version": 3
   },
   "file_extension": ".py",
   "mimetype": "text/x-python",
   "name": "python",
   "nbconvert_exporter": "python",
   "pygments_lexer": "ipython3",
   "version": "3.8.6"
  }
 },
 "nbformat": 4,
 "nbformat_minor": 4
}
