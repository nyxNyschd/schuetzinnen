{
 "cells": [
  {
   "cell_type": "code",
   "execution_count": 1,
   "metadata": {},
   "outputs": [
    {
     "data": {
      "text/html": [
       "<div>\n",
       "<style scoped>\n",
       "    .dataframe tbody tr th:only-of-type {\n",
       "        vertical-align: middle;\n",
       "    }\n",
       "\n",
       "    .dataframe tbody tr th {\n",
       "        vertical-align: top;\n",
       "    }\n",
       "\n",
       "    .dataframe thead th {\n",
       "        text-align: right;\n",
       "    }\n",
       "</style>\n",
       "<table border=\"1\" class=\"dataframe\">\n",
       "  <thead>\n",
       "    <tr style=\"text-align: right;\">\n",
       "      <th></th>\n",
       "      <th>ORIGINAL_CPV</th>\n",
       "      <th>short_desc_eng</th>\n",
       "    </tr>\n",
       "  </thead>\n",
       "  <tbody>\n",
       "    <tr>\n",
       "      <th>0</th>\n",
       "      <td>45233220</td>\n",
       "      <td>The competition concerns the delivery of aspha...</td>\n",
       "    </tr>\n",
       "    <tr>\n",
       "      <th>1</th>\n",
       "      <td>45314310</td>\n",
       "      <td>The establishment of a provisional cable insta...</td>\n",
       "    </tr>\n",
       "    <tr>\n",
       "      <th>2</th>\n",
       "      <td>45231400</td>\n",
       "      <td>Construction of a power line route in Moss.</td>\n",
       "    </tr>\n",
       "    <tr>\n",
       "      <th>3</th>\n",
       "      <td>45100000</td>\n",
       "      <td>Building and ground work in Mosseporten transf...</td>\n",
       "    </tr>\n",
       "    <tr>\n",
       "      <th>4</th>\n",
       "      <td>45100000</td>\n",
       "      <td>The contract includes all work that needs to b...</td>\n",
       "    </tr>\n",
       "    <tr>\n",
       "      <th>...</th>\n",
       "      <td>...</td>\n",
       "      <td>...</td>\n",
       "    </tr>\n",
       "    <tr>\n",
       "      <th>95</th>\n",
       "      <td>85100000</td>\n",
       "      <td>NHS South East Staffordshire and Seisdon Penin...</td>\n",
       "    </tr>\n",
       "    <tr>\n",
       "      <th>96</th>\n",
       "      <td>85320000</td>\n",
       "      <td>See Section II.2.4) (Description of the Procur...</td>\n",
       "    </tr>\n",
       "    <tr>\n",
       "      <th>97</th>\n",
       "      <td>85311300</td>\n",
       "      <td>Rhondda-Cynon-Taff CBC is the lead authority a...</td>\n",
       "    </tr>\n",
       "    <tr>\n",
       "      <th>98</th>\n",
       "      <td>39340000</td>\n",
       "      <td>NGN urgently require a Hydrogen Grid Entry Uni...</td>\n",
       "    </tr>\n",
       "    <tr>\n",
       "      <th>99</th>\n",
       "      <td>64121200</td>\n",
       "      <td>‘Scottish Water would like to source a fulfilm...</td>\n",
       "    </tr>\n",
       "  </tbody>\n",
       "</table>\n",
       "<p>100 rows × 2 columns</p>\n",
       "</div>"
      ],
      "text/plain": [
       "    ORIGINAL_CPV                                     short_desc_eng\n",
       "0       45233220  The competition concerns the delivery of aspha...\n",
       "1       45314310  The establishment of a provisional cable insta...\n",
       "2       45231400        Construction of a power line route in Moss.\n",
       "3       45100000  Building and ground work in Mosseporten transf...\n",
       "4       45100000  The contract includes all work that needs to b...\n",
       "..           ...                                                ...\n",
       "95      85100000  NHS South East Staffordshire and Seisdon Penin...\n",
       "96      85320000  See Section II.2.4) (Description of the Procur...\n",
       "97      85311300  Rhondda-Cynon-Taff CBC is the lead authority a...\n",
       "98      39340000  NGN urgently require a Hydrogen Grid Entry Uni...\n",
       "99      64121200  ‘Scottish Water would like to source a fulfilm...\n",
       "\n",
       "[100 rows x 2 columns]"
      ]
     },
     "execution_count": 1,
     "metadata": {},
     "output_type": "execute_result"
    }
   ],
   "source": [
    "import numpy as np\n",
    "import pandas as pd\n",
    "import matplotlib.pyplot as plt\n",
    "\n",
    "short_desc_eng = pd.read_csv('cpv_short_desc_eng.csv', delimiter = ',')\n",
    "short_desc_eng"
   ]
  },
  {
   "cell_type": "markdown",
   "metadata": {},
   "source": [
    "1. ein pandas Dataframe aus der CSV-Datei erzeugen, um auf die Spalten als Index zugreifen zu können:"
   ]
  },
  {
   "cell_type": "code",
   "execution_count": 2,
   "metadata": {},
   "outputs": [
    {
     "data": {
      "text/plain": [
       "0     The competition concerns the delivery of aspha...\n",
       "1     The establishment of a provisional cable insta...\n",
       "2           Construction of a power line route in Moss.\n",
       "3     Building and ground work in Mosseporten transf...\n",
       "4     The contract includes all work that needs to b...\n",
       "                            ...                        \n",
       "95    NHS South East Staffordshire and Seisdon Penin...\n",
       "96    See Section II.2.4) (Description of the Procur...\n",
       "97    Rhondda-Cynon-Taff CBC is the lead authority a...\n",
       "98    NGN urgently require a Hydrogen Grid Entry Uni...\n",
       "99    ‘Scottish Water would like to source a fulfilm...\n",
       "Name: short_desc_eng, Length: 100, dtype: object"
      ]
     },
     "execution_count": 2,
     "metadata": {},
     "output_type": "execute_result"
    }
   ],
   "source": [
    "shorty = pd.DataFrame(short_desc_eng)\n",
    "shorty['short_desc_eng']"
   ]
  },
  {
   "cell_type": "markdown",
   "metadata": {},
   "source": [
    "2. Auf einzelne Einträge in der Spalte 'short_desc_eng' zugreifen:"
   ]
  },
  {
   "cell_type": "code",
   "execution_count": 3,
   "metadata": {},
   "outputs": [
    {
     "data": {
      "text/plain": [
       "'The competition concerns the delivery of asphalt works on municipal roads, streets, foot and cycle paths, pavements, squares, parking places, some private roads and any selected new installations that are operated and maintained by the individual municipalities.The annual value of the procurement is estimated to be: 15 000 000 NOK-30 000 000 NOK excluding VAT per year. The value is an estimate and, thus, not binding. See the tender documentation for further information.'"
      ]
     },
     "execution_count": 3,
     "metadata": {},
     "output_type": "execute_result"
    }
   ],
   "source": [
    "shorty['short_desc_eng'][0]"
   ]
  },
  {
   "cell_type": "markdown",
   "metadata": {},
   "source": [
    "3. Aus allen Einträgen eine idexierte Liste erstellen, die der spacy-Pipeline als Corpus übergeben werden kann:"
   ]
  },
  {
   "cell_type": "code",
   "execution_count": 4,
   "metadata": {},
   "outputs": [
    {
     "name": "stdout",
     "output_type": "stream",
     "text": [
      "['The competition concerns the delivery of asphalt works on municipal roads, streets, foot and cycle paths, pavements, squares, parking places, some private roads and any selected new installations that are operated and maintained by the individual municipalities.The annual value of the procurement is estimated to be: 15 000 000 NOK-30 000 000 NOK excluding VAT per year. The value is an estimate and, thus, not binding. See the tender documentation for further information.', 'The establishment of a provisional cable installations at Mosseporten transformation station.', 'Construction of a power line route in Moss.', 'Building and ground work in Mosseporten transformer station.', 'The contract includes all work that needs to be carried out with an excavator or similar machinery and associated necessary works, in connection with archaeological records, surveys and excavations.', 'The contract includes all work that needs to be carried out with an excavator or similar machinery and associated necessary works, in connection with archaeological records, surveys and excavations.', 'ØRIK invites tenderers to an open tender competition for the delivery of water meters for the municipalities of: Eidsvoll, Gjerdrum, Hurdal, Nannestad, Nes and Ullensaker.See the requirement specifications for further information.', 'A framework agreement will be established for supplementary purchase of textiles for the majority of the municipal nursing homes, but also to other entities such as for e.g. nursery schools.This procurement is a collaboration between the Nursing Home Agency in Oslo Municipality, Nesodden, Vestby, Ås, Ski and Oppegård Municipalities.', 'In accordance with the Act and Public Procurement Regulations, Sarpsborg municipality (hereafter referred to as the contracting authority) invites tenderers to participate in an open tender competition for the delivery of a wheeled loader to Gatedalen Environmental Plant.', 'The framework agreement is for the hire of coffee machines and water dispensers.The coffee machines must use coffee beans to brew fresh coffee. All parts of the coffee beans must be used.There must be a possibility for tapping hot water from the coffee machines and several types of coffee/coffee drinks must be offered. Separate taps for coffee drinks and water.The water dispensers must offer carbonated water and still water.Tenders may be submitted for 1 or both of the lots given below:Lot 1: North Norway, from and including Nordland and northwards;Lot 2: South Norway, from and including Trøndelag and southwards.Each lot will be evaluated separately as an independent procurement.The contracting authority: The Norwegian Defence Estates Agency.The following organisations have an option to enter the framework agreement:— The Norwegian Armed Forces;— The Norwegian Defence Research Establishment (FFI);— The Norwegian Defence Materiel Agency (FMA).', 'The contracting authority requests 2 digital, moveable X-ray apparatuses. Each apparatus shall include a large wireless detector. A small wireless detector that can be split between the apparatuses shall also be included in the tender.', \"The objective of the framework agreement is to ensure the municipality's requirements for annual summer flowers and autumn plants to be planted in municipal parks, graveyards and other properties.\", 'Kystverket [the Norwegian Coastal Administration] needs to digitise the implementation phase of our project, including contracts and will therefore procure a system for interaction/project hotel.', 'An RFI was created to give interested suppliers the opportunity to provide information a potential system that UI would purchase. The number 1 criteria was demonstrated single-molecule sensitivity. Three potential suppliers replied: PicoQuant (PQ, Berlin, Germany), Medor (Iceland) and Inter (Iceland). The instrument fromInter, Elyra 7, is not a confocal microscope and therefore not capable of the majority of experiments required (time-domain FLIM, TCSPC, FCS, smFRET and even STED).The MT200 from PQ is the only instrument that provides all specifications of the RFI in a single instrument and demonstrates excellent support and experience. Given the prime requirement of single-molecule sensitivity, the MT200 is the strongest instrument on the market.', 'The purpose of the procurement is to enter into a framework agreement for uniform products that service personnel in different operative and administrative functions needs for their working lives. The framework agreement will apply to the Norwegian Police Service, the Norwegian Correctional Services, Norwegian Customs, the Norwegian Police Security Service (PST) and the Governor of Svalbard.Based on previous years’ procurements, the estimate for call-offs is approx. 16 000 000 NOK during the contract period, including the option years. The estimate is non-binding for the contracting authority. See the tender documentation for further details.', 'The purpose of the procurement is to enter into a framework agreement for uniform products that service personnel in different operative and administrative functions needs for their working lives. The framework agreement will apply to the Norwegian Police Service, the Norwegian Correctional Services, Norwegian Customs, the Norwegian Police Security Service (PST) and the Governor of Svalbard.Based on previous years’ procurements, the estimate for call-offs is approx. 16 000 000 NOK during the contract period, including the option years. The estimate is non-binding for the contracting authority. See the tender documentation for further details.', 'Møre and Romsdal Hospital Trust (Norwegian abbreviation HMR) intends to extend the existing contract for blood culture bottles on identical terms for the lifetime of the products. A new and open tender contest for blood culture bottles will most likely be implemented in connection with the opening of the Nord-Møre and Romsdal Hospital in 2023-2025.', 'Procurement of a pipetting robot with the accompanying instrument-dependent consumables for delivery to Helse Stavanger HF.', \"Oslo Municipality, c/o Omsorgsbygg Oslo KF, hereafter referred to as the contracting authority, extends an invitation to an open tender contest for the procurement of a framework agreement for works technician services. The aim of the procurement is to ensure that properties that do not have separate works technicians get operational work carried out that comes under Omsorgsbygg Oslo KF's responsibility as the owner of the buildings.\", \"Oslo Municipality, c/o Omsorgsbygg Oslo KF, hereafter referred to as the contracting authority, extends an invitation to an open tender contest for the procurement of a framework agreement for works technician services. The aim of the procurement is to ensure that properties that do not have separate works technicians get operational work carried out that comes under Omsorgsbygg Oslo KF's responsibility as the owner of the buildings.\", \"Oslo Municipality, c/o Omsorgsbygg Oslo KF, hereafter referred to as the contracting authority, extends an invitation to an open tender contest for the procurement of a framework agreement for works technician services. The aim of the procurement is to ensure that properties that do not have separate works technicians get operational work carried out that comes under Omsorgsbygg Oslo KF's responsibility as the owner of the buildings.\", 'Assess whether the scheme with grants for preventive measures against predatory animal damage and conflict prevention measures (FCT) can be improved in relation to the objectives of the scheme and if so, how.', 'The contracting authority would like tenders for the provision of cleaning services for the Norwegian Public Roads Administration in Nordland, Troms and Finnmark. Currently there are approx. 28 locations distributed throughout the 3 counties and the premises consist of everything from small inspection stations to larger office premises. See annex 1 Description of the buildings in location Groups 1-6 for a complete overview of the locations. Svolvær Traffic Station will join this contract in autumn 2020. The cleaning must be inspected based on The Nordic Standard INSTA 800 (NS-INSTA 800 Cleaning Quality — measuring system for judging the quality of cleaning). The latest available version of the standard must always be used.', 'The contracting authority would like tenders for the provision of cleaning services for the Norwegian Public Roads Administration in Nordland, Troms and Finnmark. Currently there are approx. 28 locations distributed throughout the 3 counties and the premises consist of everything from small inspection stations to larger office premises. See annex 1 Description of the buildings in location Groups 1-6 for a complete overview of the locations. Svolvær Traffic Station will join this contract in autumn 2020. The cleaning must be inspected based on The Nordic Standard INSTA 800 (NS-INSTA 800 Cleaning Quality — measuring system for judging the quality of cleaning). The latest available version of the standard must always be used.', 'The contracting authority would like tenders for the provision of cleaning services for the Norwegian Public Roads Administration in Nordland, Troms and Finnmark. Currently there are approx. 28 locations distributed throughout the 3 counties and the premises consist of everything from small inspection stations to larger office premises. See annex 1 Description of the buildings in location Groups 1-6 for a complete overview of the locations. Svolvær Traffic Station will join this contract in autumn 2020. The cleaning must be inspected based on The Nordic Standard INSTA 800 (NS-INSTA 800 Cleaning Quality — measuring system for judging the quality of cleaning). The latest available version of the standard must always be used.', \"The objective of the tender contest is to enter into a framework agreement for printing services and promotional products for the Sami Parliament.The Sami Parliament, henceforth also referred to as the contracting authority, requests tenders for different printing services, e.g. the production of budgets, annual reports.The tender documentation includes all of the Sami Parliament's activities.\", 'The contracting authority wants good quality data about travel habits and traffic along the road network both in and through towns and densely populated areas. It is a necessary basis in road planning, town and densely populated area development, toll money reviews, coordinated housing, area and transport planning, mobility planning, as well as performance management and planning. Traffic data (including travel times) combined with data and events is necessary for operative traffic control and to give information to the public through different channels. The contracting authority now wants to use new data sources to get better information about the travel pattern in and through towns and densely populated areas.', 'The contracting authority wants good quality data about travel habits and traffic along the road network both in and through towns and densely populated areas. It is a necessary basis in road planning, town and densely populated area development, toll money reviews, coordinated housing, area and transport planning, mobility planning, as well as performance management and planning. Traffic data (including travel times) combined with data and events is necessary for operative traffic control and to give information to the public through different channels. The contracting authority now wants to use new data sources to get better information about the travel pattern in and through towns and densely populated areas.', 'Case management for processing applications, payments and the administration of loans/subsidies is currently carried out by executive officers in the Housing Department, supported by a tailor-made internal trade system, Boinfo. The Housing Department administers approx. 3 000 standing loans/subsidies.Bergen Municipality has started a project to digitalise processes in the Housing Department, including the administration of start loans/subsidies. Prioritised aims for the project are digital first choice for all customers/service recipients of the Housing Department, the establishment of a fully electronic archive and a simplification of the trade system by transferring functions to standardised systems.', 'Construction work for new build housing at Goathill.', 'The project is for the provision of construction and building restoration works to create a mixed use community development hub on the existing St Comgalls, Belfast site. The building was awarded B1 Listed Building Status in 2002 and has remained derelict since then.— the Gross Internal Floor Area for restoration works is 3 271 m— the project consists of the restoration of the existing building and construction of new building features which will house the following facilities: office and exhibition spaces, plant rooms, new WC provision, function room, courtyard, kitchen, bar, café and central storage space,— proposed works include specialist concrete and structural repairs, utilities/services connections, building construction and restoration, provision of a new glazed pyramid roof, FF&E fit out and M&E works including a lift installation.', 'The Equipment and Services Support Provider (ESSP) is required to support defence munitions with low value procurement, (transactions up to 50 000 GBP ex VAT), for non recurring requirements that cannot be sourced via any other MOD or government contracts or frameworks.The ESSP has been identified by Defence Munitions Commercial to provide a more streamlined and efficient route to market for low-value, low risk requirements and to reduce the number of regular transactions via Government Electronic Procurement Card (ePC).', 'Purchase of:— 2 x high performance liquid chromatograph – triple quadrupole mass spectrometer,— 4-year contract for maintenance and servicing,— 4-year framework for the supply of parts/consumables.', 'Ports of Jersey are looking for a turnkey solution to replace the existing Voice Communication Systems for ATC, as the existing system is approaching end of life.', 'The purpose of this tender process is to award 2 national contracts for the provision of branded work wear, 1 for Forestry and Land Scotland and 1 for Scottish Forestry staff throughout Scotland.We are looking for a design led managed service for work wear which is ‘fit for purpose’ for the roles and activities undertaken by the organisation’s staff and ensures staff are identifiable and can proudly represent the organisations when in contact with the public.', 'The purpose of this tender process is to award 2 national contracts for the provision of branded work wear, 1 for Forestry and Land Scotland and 1 for Scottish Forestry staff throughout Scotland.We are looking for a design led managed service for work wear which is ‘fit for purpose’ for the roles and activities undertaken by the organisation’s staff and ensures staff are identifiable and can proudly represent the organisations when in contact with the public.', 'Back office system that integrates with the flowbird parking machines.', 'Jisc is procuring a HR system, with the aim of going live in July 2020. This system will be procured to run on an initial 3-year contract, with the possibility of an extension for a further 2 years, subject to performance review and then subsequent 1-year extensions up to a maximum total contract length of 10 years.', 'Cleaning services for all blocks/sites owned and managed by CCHA. This includes window cleaning and the cleaning of communal areas in both commercial and residential properties. It is anticipated that the annual contract value will be 650 000 GBP.', 'Fast track — PHB notional budget.', 'Fast track.', 'Provision a 24 hour, 7 days a week, year round, fully comprehensive servicing and responsive repair service to fire safety equipment and systems located in all of CCHA’s communal and commercial sites. It is anticipated that the annual contract value will be between 50 000 and 100 000 GBP and will cover, where applicable, the 3 200 properties owned by CCHA, including commercial properties.', 'ØRIK invites tenderers to participate in an open tender contest for the delivery of winter maintenance of municipal roads in Nes kommune [Nes municipality].Winter maintenance includes snow clearing and gritting. The district is divided into 13 routes. This tender includes 12 routes that will be subject to competitive tendering. Nes maintains one route internally.This tender collection concerns routes 1 — 12. The roads will undergo winter maintenance in the period October 15 — April 15.', 'ØRIK invites tenderers to participate in an open tender contest for the delivery of winter maintenance of municipal roads in Nes kommune [Nes municipality].Winter maintenance includes snow clearing and gritting. The district is divided into 13 routes. This tender includes 12 routes that will be subject to competitive tendering. Nes maintains one route internally.This tender collection concerns routes 1 — 12. The roads will undergo winter maintenance in the period October 15 — April 15.', 'ØRIK invites tenderers to participate in an open tender contest for the delivery of winter maintenance of municipal roads in Nes kommune [Nes municipality].Winter maintenance includes snow clearing and gritting. The district is divided into 13 routes. This tender includes 12 routes that will be subject to competitive tendering. Nes maintains one route internally.This tender collection concerns routes 1 — 12. The roads will undergo winter maintenance in the period October 15 — April 15.', 'North Lincolnshire Council and North East Lincolnshire Council are inviting tenders for the supply, implementation and maintenance of a financial management system. The system will be implemented across both authorities as 1 shared system.', 'London Borough of Sutton.', 'Ad-hoc services.', 'Fast track — PHB notional budget.', 'The outline of this project is the survey and maintenance of the Duke of Normandy to maintain vessel certification to MGN280.', 'Local authorities across the Southern Region of England have come together to commission children’s residential care using a framework agreement, in order to fulfil their statutory duty to provide high-quality residential care to looked after children within their authority. Commissioning as a consortium of authorities allows us to meaningfully engage with the market whilst enabling us to achieve efficiencies in the purchasing and development of services and advocating better care on behalf of children and young people. Continued in VI.3) additional information.', 'Local authorities across the Southern Region of England have come together to commission children’s residential care using a framework agreement, in order to fulfil their statutory duty to provide high-quality residential care to looked after children within their authority. Commissioning as a consortium of authorities allows us to meaningfully engage with the market whilst enabling us to achieve efficiencies in the purchasing and development of services and advocating better care on behalf of children and young people. Continued in VI.3) additional information.', 'Local authorities across the Southern Region of England have come together to commission children’s residential care using a framework agreement, in order to fulfil their statutory duty to provide high-quality residential care to looked after children within their authority. Commissioning as a consortium of authorities allows us to meaningfully engage with the market whilst enabling us to achieve efficiencies in the purchasing and development of services and advocating better care on behalf of children and young people. Continued in VI.3) additional information.', 'Local authorities across the Southern Region of England have come together to commission children’s residential care using a framework agreement, in order to fulfil their statutory duty to provide high-quality residential care to looked after children within their authority. Commissioning as a consortium of authorities allows us to meaningfully engage with the market whilst enabling us to achieve efficiencies in the purchasing and development of services and advocating better care on behalf of children and young people. Continued in VI.3) additional information.', 'Local authorities across the Southern Region of England have come together to commission children’s residential care using a framework agreement, in order to fulfil their statutory duty to provide high-quality residential care to looked after children within their authority. Commissioning as a consortium of authorities allows us to meaningfully engage with the market whilst enabling us to achieve efficiencies in the purchasing and development of services and advocating better care on behalf of children and young people. Continued in VI.3) additional information.', 'Local authorities across the Southern Region of England have come together to commission children’s residential care using a framework agreement, in order to fulfil their statutory duty to provide high-quality residential care to looked after children within their authority. Commissioning as a consortium of authorities allows us to meaningfully engage with the market whilst enabling us to achieve efficiencies in the purchasing and development of services and advocating better care on behalf of children and young people. Continued in VI.3) additional information.', '65+ (physical disability)', 'Places for people insurance services.', 'Places for people group life assurance.', 'Passenger transport for 8 passengers or less with passenger assistance.', 'Invitation to tender for the provision of CAHMS assessment service for Leeds Community Healthcare NHS Trust. Leeds Community Healthcare’s (LCH) Specialist Community CAMHS wish to work in partnership with local provider/s to help them deliver timely multi-disciplinary autistic spectrum disorder (ASD) and attention deficit hyperactivity disorder (ADHD) diagnostic assessments for children and young people aged 5-17 living in Leeds.', '65+ (physical disability).', 'This provision is for outreach and low intensity 1:1 support elements of the all age early intervention support offer. The purpose of this is to improve households’ physical, social and emotional well-being, so that they do not need ongoing support from crisis and specialist services. The Council is in the process of carrying out a service review under the auspices of the thriving communities programme with a view to realigning the services to deliver the objectives of the programme.', 'Onward are seeking to award a contract for grounds maintenance services to onward properties on the following estates in Runcorn: Castlefields (including Hallwood Park), Windmill Hill and Murdishaw, for 9 months grounds maintenance services to include but not limited to, grass cutting, shrub pruning, chemical treatment and litter picking.', \"Adults' personal home support 65+.\", 'The London Borough of Lambeth require a suitably qualified contractor to undertake the reconditioning of the Clapham Common Event Site including suitable drainage and resetting of the concrete events trackpad.', 'Home to school transport multiple routes to Thomas Mills High School.', 'The replacement of the Fire Behaviour Training Unit (‘Hot Fire Villa’) which is an integral part of the Cornwall Fire and Rescue Service’s training provision for operational firefighters. This contract will include the dismantling, removal and responsible disposal of the old villa, plus fabricating off-site, delivery and construction on-site of the new villa plus accessories. We anticipate both of these taking place in early 2010.', 'Scottish Borders Council will enter a strategic partnership arrangement for a number of key routes which mainly form the core supported bus service network across the area.', 'To provide a profressional catering service provision to Tennyson Road Primary School. The school is a 3 form entry school split on two sites and is part of The Tennyson Learning Community Trust. The school os seeking a catering partner who will genuinely care about the food it serves and the pupil experience.', 'There are many examples of excellent social action taking place in communities across Cheshire East. As such,the Council and NHS Commissioners wish to coordinate and stimulate this further, by providing assistance through a ‘Social Action Partnership Service’. This service will provide a range of support to the Voluntary Community Faith and Social Enterprise (VCFSE) Sector to help them to undertake social action. This will enable the sector to develop and flourish locally, particularly through the building of local connections and partnerships between organisations and sectors.The service will be delivered as a long-term partnership with the local authority founded on a series of core values including mutual trust, collaboration and innovation. This relationship will help to guide how the Council works with the VCFSE in the future, as well as its approach to transforming the wider health and social care system.', \"Concept design for New Ambassador's Residence British Embassy Beijing, China.\", 'Manual and automated testing services for browser based applications, interfaces and mobile applications.', 'Crown Commercial Service as the authority have established a pan government agreement for the provision of payment acceptance service to be utilised by Central Government Departments and all other UK Public Sector Bodies as identified at VI.3 of this notice.The framework agreement comprises of the following lots:Lot 1: Face to Face and CNP Card Acquiring, Gateway and APM Services;Lot 2: CNP Only Card Acquiring, Gateway and APM Services;Lot 3: CNP and Face to Face Acquiring Services;Lot 4: CNP and Face to Face Gateway and APM Services;Lot 5: Payment Initiation Service Providers;Lot 7: Payment Consulting Services.Bidders had the opportunity to bid for all or any combination of the lots.The full specification is set out in framework schedule 1 (Specification), in the invitation to tender documents attached to the BravoSolution eSourcing suite.', 'Crown Commercial Service as the authority have established a pan government agreement for the provision of payment acceptance service to be utilised by Central Government Departments and all other UK Public Sector Bodies as identified at VI.3 of this notice.The framework agreement comprises of the following lots:Lot 1: Face to Face and CNP Card Acquiring, Gateway and APM Services;Lot 2: CNP Only Card Acquiring, Gateway and APM Services;Lot 3: CNP and Face to Face Acquiring Services;Lot 4: CNP and Face to Face Gateway and APM Services;Lot 5: Payment Initiation Service Providers;Lot 7: Payment Consulting Services.Bidders had the opportunity to bid for all or any combination of the lots.The full specification is set out in framework schedule 1 (Specification), in the invitation to tender documents attached to the BravoSolution eSourcing suite.', 'Crown Commercial Service as the authority have established a pan government agreement for the provision of payment acceptance service to be utilised by Central Government Departments and all other UK Public Sector Bodies as identified at VI.3 of this notice.The framework agreement comprises of the following lots:Lot 1: Face to Face and CNP Card Acquiring, Gateway and APM Services;Lot 2: CNP Only Card Acquiring, Gateway and APM Services;Lot 3: CNP and Face to Face Acquiring Services;Lot 4: CNP and Face to Face Gateway and APM Services;Lot 5: Payment Initiation Service Providers;Lot 7: Payment Consulting Services.Bidders had the opportunity to bid for all or any combination of the lots.The full specification is set out in framework schedule 1 (Specification), in the invitation to tender documents attached to the BravoSolution eSourcing suite.', 'Crown Commercial Service as the authority have established a pan government agreement for the provision of payment acceptance service to be utilised by Central Government Departments and all other UK Public Sector Bodies as identified at VI.3 of this notice.The framework agreement comprises of the following lots:Lot 1: Face to Face and CNP Card Acquiring, Gateway and APM Services;Lot 2: CNP Only Card Acquiring, Gateway and APM Services;Lot 3: CNP and Face to Face Acquiring Services;Lot 4: CNP and Face to Face Gateway and APM Services;Lot 5: Payment Initiation Service Providers;Lot 7: Payment Consulting Services.Bidders had the opportunity to bid for all or any combination of the lots.The full specification is set out in framework schedule 1 (Specification), in the invitation to tender documents attached to the BravoSolution eSourcing suite.', 'Crown Commercial Service as the authority have established a pan government agreement for the provision of payment acceptance service to be utilised by Central Government Departments and all other UK Public Sector Bodies as identified at VI.3 of this notice.The framework agreement comprises of the following lots:Lot 1: Face to Face and CNP Card Acquiring, Gateway and APM Services;Lot 2: CNP Only Card Acquiring, Gateway and APM Services;Lot 3: CNP and Face to Face Acquiring Services;Lot 4: CNP and Face to Face Gateway and APM Services;Lot 5: Payment Initiation Service Providers;Lot 7: Payment Consulting Services.Bidders had the opportunity to bid for all or any combination of the lots.The full specification is set out in framework schedule 1 (Specification), in the invitation to tender documents attached to the BravoSolution eSourcing suite.', 'Crown Commercial Service as the authority have established a pan government agreement for the provision of payment acceptance service to be utilised by Central Government Departments and all other UK Public Sector Bodies as identified at VI.3 of this notice.The framework agreement comprises of the following lots:Lot 1: Face to Face and CNP Card Acquiring, Gateway and APM Services;Lot 2: CNP Only Card Acquiring, Gateway and APM Services;Lot 3: CNP and Face to Face Acquiring Services;Lot 4: CNP and Face to Face Gateway and APM Services;Lot 5: Payment Initiation Service Providers;Lot 7: Payment Consulting Services.Bidders had the opportunity to bid for all or any combination of the lots.The full specification is set out in framework schedule 1 (Specification), in the invitation to tender documents attached to the BravoSolution eSourcing suite.', '65+ (physical disability).', 'The City currently uses 2 separate solutions to support the services of its departments for markets and consumer protection and for the built environment.The City would like to rationalise these systems into a single solution.The City would also like for this solution to be hosted and would like your responses to outline your ability to achieve this.', 'Harborough District Council intends to commission a service for the provision of temporary staff. The services required are as detailed in the procurement documents.', \"Northamptonshire Adult Social Services (NASS) is seeking a strategic partner to work alongside to design and implement a programme of transformational change over the next 18 months. The partner will be required to assist in refining NASS's processes, improving customer experience and delivering sustainable services going forward.\", 'Merseytravel would like to invite vendors to quote for the supply, installation and maintenance of the corporate bus contracts management system. Currently, the contract management process for the supported bus network is managed via several internal Merseytravel systems. The current system covers the import of bus operator revenue returns data for non-commercial bus services and the calculation of operator payments. The system enables the bus contracts team to:— check all operator ticket sales data,— ensure that all journeys on contracted services have been run,— calculate revenue deductions for missing journeys,— produce reports to assist with revenue payments to bus operators and to manage and analyse contract performance. The data is also used by other departments as the basis for bus network reviews e.g. where people get on the bus, passenger numbers on journeys etc. A new bus contract management system (BCMS) will deliver a more efficient and robust contract management system for the supported bus network and will meet the requirements of the Merseytravel Bus Strategy. It will deliver full contract management from registration to payment, performance measures, KPI’s, mileage data and all aspects associated with efficient bus service management and performance.', 'Food service provision for 500 pupils and staff.', 'Older people — Whitchurch and Tongwynlais.', 'Food service provision for 650 pupil and staff.', 'This ITT is to provide a professional food service provision to the Adeyfield Academ. The Adeyfield Academy is a fully inclusive mixed academy and is part of the ATLAS Multi Academy Trust. The Academy is seeking a catering partner who will genuinely care and take pride in the food served to their pupils, staff and visitors.The creation of a vibrant dining experience will underpin the success of the partnership by:(a) using fresh, quality products;(b) delivering exceptional service; and(c) doing the right thing for the stakeholders of the Academy.Investment will be needed to update the current facilities.', 'The contractor is required to provide a taxi for the conveyance of healthcare professionals, patients and light goods on an ad-hoc requirement. The provision of a taxi service for the trust will also involve the transportation of patients whose condition does not warrant an ambulance but who are accompanied by an escort/healthcare professional, who will require a return journey, medical notes, blood, drugs, cash, goods and various small items to various locations, normally within the county, but occasionally longer distances. There is also a level of demand for the transportation of patients who are unable to transfer out of their wheelchair. The contractor will be responsible for the provision of this service 24 hours a day, 365/6 days a year.', \"Norfolk County Council's public sector shared legal service, nplaw, was seeking to replace its current case management system to a system more suited to its expanding casework and types of work.\", \"Five contracts with voluntary sector provides to deliver advocacy for patients with rare syndromes (Alstrom Syndrome, Ataxia Telangiectasia, Bardet-Biedl Syndrome, Wolfram Syndrome and Behcet's Syndrome).\", \"Five contracts with voluntary sector provides to deliver advocacy for patients with rare syndromes (Alstrom Syndrome, Ataxia Telangiectasia, Bardet-Biedl Syndrome, Wolfram Syndrome and Behcet's Syndrome).\", \"Five contracts with voluntary sector provides to deliver advocacy for patients with rare syndromes (Alstrom Syndrome, Ataxia Telangiectasia, Bardet-Biedl Syndrome, Wolfram Syndrome and Behcet's Syndrome).\", \"Five contracts with voluntary sector provides to deliver advocacy for patients with rare syndromes (Alstrom Syndrome, Ataxia Telangiectasia, Bardet-Biedl Syndrome, Wolfram Syndrome and Behcet's Syndrome).\", \"Five contracts with voluntary sector provides to deliver advocacy for patients with rare syndromes (Alstrom Syndrome, Ataxia Telangiectasia, Bardet-Biedl Syndrome, Wolfram Syndrome and Behcet's Syndrome).\", 'NHS South East Staffordshire and Seisdon Peninsula, NHS Cannock Chase and NHS Stafford and Surrounds CCGs wish to commission the delivery, coordination and operational management of a staying well pathway extended pilot.This service will be offered on the basis of direct referral of patients with mild to moderate frailty registered with a participating practice the above CCGs. The aims and objectives of the staying well services extended pilot project is to deliver a safe and effective pathway and a multi-disciplinary team (MDT) based service which enables service users to avoid hospital admissions.The overarching aims, and objectives are to:— enhance the patient pathway by effectively assessing, referring and managing patients within the most appropriate setting,— provide fast, timely access to assessment, treatment and care,— prevent avoidable hospital attendance and admission,— contribute appropriate data to monitor impact of the service.', 'See Section II.2.4) (Description of the Procurement).', 'Rhondda-Cynon-Taff CBC is the lead authority acting on behalf of the Welsh Local Authorities for procuring a ‘Flexible Framework’ (FF) for the provision of residential care services for children looked after.The structure of the FF shall be a core specification that shall be applicable to all lots. Additional specification requirements will then be added for specific models of care and needs profiles, allocated into the lots.The FF will follow similar principals and characteristics of a standard framework, meeting the requirements of equal treatment and transparency. However the FF will remain open, allowing new entrants throughout its duration.Tenderers are able to access the FF at any time via the Councils current electronic tendering system — eTenderWales: https://etenderwales.bravosolution.co.uk', 'NGN urgently require a Hydrogen Grid Entry Unit (HGEU) to support their HyDeploy project. The HGEU is required to control the blend of hydrogen and natural gas before entering the gas network. The unit must comply with NGN’s G17 design process and be ready for delivery by July 20.', '‘Scottish Water would like to source a fulfilment service, which would include the purchase and storage of water saving devices and the:— packaging and delivery/postage of these complete ‘Water Saving Packs’ to individual households (projected 18 000 in 2019/20 and 6 500 in 2020/21),— packaging and delivery of bulk quantities of devices to our delivery partners to use at events.’']\n"
     ]
    }
   ],
   "source": [
    "from spacy.lang.en import English\n",
    "parser = English()\n",
    "\n",
    "import en_core_web_sm\n",
    "nlp = en_core_web_sm.load()\n",
    "\n",
    "short_desc = shorty['short_desc_eng'].tolist()\n",
    "print(short_desc)\n"
   ]
  },
  {
   "cell_type": "markdown",
   "metadata": {},
   "source": [
    "4. Test, ob die Sätze immer noch einen Index haben:"
   ]
  },
  {
   "cell_type": "code",
   "execution_count": 5,
   "metadata": {},
   "outputs": [
    {
     "data": {
      "text/plain": [
       "[1]"
      ]
     },
     "execution_count": 5,
     "metadata": {},
     "output_type": "execute_result"
    }
   ],
   "source": [
    "[index for index, value in enumerate(short_desc) if value == 'The establishment of a provisional cable installations at Mosseporten transformation station.']"
   ]
  },
  {
   "cell_type": "markdown",
   "metadata": {},
   "source": [
    "5. Vergleich mit dem Index des zugrunde liegenden Dataframes:"
   ]
  },
  {
   "cell_type": "code",
   "execution_count": 6,
   "metadata": {},
   "outputs": [
    {
     "data": {
      "text/plain": [
       "'The establishment of a provisional cable installations at Mosseporten transformation station.'"
      ]
     },
     "execution_count": 6,
     "metadata": {},
     "output_type": "execute_result"
    }
   ],
   "source": [
    "shorty['short_desc_eng'][1]"
   ]
  },
  {
   "cell_type": "code",
   "execution_count": null,
   "metadata": {},
   "outputs": [],
   "source": []
  }
 ],
 "metadata": {
  "kernelspec": {
   "display_name": "Python 3",
   "language": "python",
   "name": "python3"
  },
  "language_info": {
   "codemirror_mode": {
    "name": "ipython",
    "version": 3
   },
   "file_extension": ".py",
   "mimetype": "text/x-python",
   "name": "python",
   "nbconvert_exporter": "python",
   "pygments_lexer": "ipython3",
   "version": "3.7.9"
  }
 },
 "nbformat": 4,
 "nbformat_minor": 4
}
